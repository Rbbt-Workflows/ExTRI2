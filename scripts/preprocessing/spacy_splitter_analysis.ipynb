{
 "cells": [
  {
   "cell_type": "markdown",
   "id": "36abbfc4-01d6-4f79-bc11-027b4c75e0b8",
   "metadata": {},
   "source": [
    "# Analysis of the spacy splitter used for the pipeline"
   ]
  },
  {
   "cell_type": "code",
   "execution_count": 1,
   "id": "b957cc58-67cc-44e3-847e-b961571c956f",
   "metadata": {},
   "outputs": [],
   "source": [
    "# Imports\n",
    "from IPython.display import display, HTML, display_html\n",
    "import pandas as pd\n",
    "import matplotlib.pyplot as plt\n",
    "import spacy\n",
    "from tqdm import tqdm"
   ]
  },
  {
   "cell_type": "markdown",
   "id": "63a58339-2280-4c5b-bdc8-c4f994239fc2",
   "metadata": {},
   "source": [
    "spacy's **\"en_core_sci_md\"** is used in the pipeline to split the abstracts in sentences. Here, I will analyse how well it is able to separate sentences. I must check 2 things: how well can it **separate sentences**, and **keep sentences together**. How will I do both: \n",
    "* **Separate sentences:** <span style='color: red'>Think on how to do it, and whether it is relevant</span>\n",
    "* **Keep sentences together:** Use the tool to divide the sentences present in the TRI dataset, and check how many it incorrectly further splits into multiple sentences"
   ]
  },
  {
   "cell_type": "markdown",
   "id": "91cba6c3-5944-432a-a9ce-aea8211fe4ce",
   "metadata": {},
   "source": [
    "### Ability to keep sentences together"
   ]
  },
  {
   "cell_type": "markdown",
   "id": "001846ee-6d97-4d79-85d0-f540869b4a47",
   "metadata": {},
   "source": [
    "As shown below, nlp leaves most of TRI sentences together, although it does incorrectly separate certain ones. I have identified 2 main mistakes. It sometimes separates a sentence when: \n",
    "* There is no punctuation mark\n",
    "* The punctuation mark is followed by a lowercase letter\n",
    "\n",
    "In both cases, the model supposes a human typo and separates the sentence. Considering that the data used for training are PubMed abstracts, scientific and with grammar rigor, we will consider that those human mistakes are negligible, and therefore, after the splitting, we will **merge together all the sentences that are not splitted by a \".\" followed by a capital letter**. \n",
    "\n",
    "The code and results are shown below:"
   ]
  },
  {
   "cell_type": "code",
   "execution_count": 2,
   "id": "d50f745f-1cac-4fa9-8b21-a71c2226a13a",
   "metadata": {},
   "outputs": [],
   "source": [
    "TRI_data = pd.read_csv('../../data/TRI_data.tsv', sep='\\t')"
   ]
  },
  {
   "cell_type": "code",
   "execution_count": 11,
   "id": "e72f497d-5cec-4d3f-bc0d-ed4122c9626d",
   "metadata": {},
   "outputs": [
    {
     "name": "stderr",
     "output_type": "stream",
     "text": [
      "/home/nuriafari/sandbox/ExTRI2_classifiers/.env_extri2/lib/python3.11/site-packages/spacy/language.py:2141: FutureWarning: Possible set union at position 6328\n",
      "  deserializers[\"tokenizer\"] = lambda p: self.tokenizer.from_disk(  # type: ignore[union-attr]\n"
     ]
    }
   ],
   "source": [
    "#!pip install https://s3-us-west-2.amazonaws.com/ai2-s2-scispacy/releases/v0.5.3/en_core_sci_md-0.5.3.tar.gz\n",
    "nlp = spacy.load(\"en_core_sci_md\")\n",
    "def merge_sentences(doc):\n",
    "    merged_sentences = []\n",
    "    temp_sentence = \"\"\n",
    "\n",
    "    sentences = [i for i in doc.sents]  # Convert generator to a list for easier handling\n",
    "    for i, sentence in enumerate(sentences):\n",
    "        current_text = sentence.text.strip()\n",
    "        temp_sentence += current_text + \" \"\n",
    "\n",
    "        # Separate to a new sentence if: \n",
    "        #     it is the last sentence, or\n",
    "        #     The sentence ends with \". \" and next sentence starts with uppercase\n",
    "        if i == len(sentences) - 1 or ( current_text.endswith(('.', '!', '?')) \n",
    "                                       and sentences[i + 1].text.strip()[0].isupper()\n",
    "                                       and sentences[i + 1].start_char == sentence.end_char + 1\n",
    "                                      ):\n",
    "            merged_sentences.append(temp_sentence.strip())\n",
    "            temp_sentence = \"\"\n",
    "    return merged_sentences"
   ]
  },
  {
   "cell_type": "code",
   "execution_count": 12,
   "id": "328ac35d-9d66-4d76-bef7-8c17ac911e94",
   "metadata": {},
   "outputs": [
    {
     "name": "stdout",
     "output_type": "stream",
     "text": [
      "CPU times: user 54.5 s, sys: 4.38 s, total: 58.9 s\n",
      "Wall time: 59.4 s\n"
     ]
    },
    {
     "name": "stderr",
     "output_type": "stream",
     "text": [
      "100%|██████████████████████████████████████████████████████████████████████████████████████████████████| 22135/22135 [00:00<00:00, 63768.05it/s]\n"
     ]
    }
   ],
   "source": [
    "TRI_data['sent_ID'] = TRI_data['#TRI ID'].str.split(':').str[:2].str.join(':')\n",
    "sentences = []\n",
    "splitted_sentences = {}\n",
    "\n",
    "# Use spaCy's pipe for efficient batch processing if applicable (batched reduces time from 5min to 1min)\n",
    "texts = TRI_data['texts'].tolist()  # Convert column to list for efficient processing\n",
    "%time docs = list(nlp.pipe(texts))\n",
    "\n",
    "total = len(TRI_data)\n",
    "for doc, id, label in tqdm(zip(docs, TRI_data['sent_ID'], TRI_data['labels']), total=total):\n",
    "    merged_sents = merge_sentences(doc)\n",
    "    sentences.extend(merged_sents)\n",
    "    \n",
    "    if len(merged_sents) == 0:\n",
    "        print(\"WARNING\")\n",
    "        print(text)\n",
    "        print('_')\n",
    "    if len(merged_sents) > 1:\n",
    "        if id not in splitted_sentences:\n",
    "            splitted_sentences[id] = [[merged_sents, label]]\n",
    "        else:\n",
    "            splitted_sentences[id].append([merged_sents, label])"
   ]
  },
  {
   "cell_type": "code",
   "execution_count": 103,
   "id": "390dd5c7-e305-44f1-836b-9d1b3ca4d5e1",
   "metadata": {},
   "outputs": [
    {
     "data": {
      "text/html": [
       "\n",
       "<table>\n",
       "    <tr><td>Original length</td><td>22135</td></tr>\n",
       "    <tr><td>After spacy</td><td>22235</td></tr>\n",
       "    <tr><td>After <code>merge_sentences()</code></td><td>22208</td></tr>\n",
       "</table>\n",
       "\n",
       "With 22135 original sentences, spacy further splits the rows into 100 new sentences.<br>\n",
       "However, <code>merge_function()</code> merges 27 of those sentences, leaving 73 \n",
       "new sentences, that come from 28 unique sentence IDs.<br>\n",
       "Therefore, a <b>0.21% of unique sentences are affected</b><br>\n"
      ],
      "text/plain": [
       "<IPython.core.display.HTML object>"
      ]
     },
     "metadata": {},
     "output_type": "display_data"
    }
   ],
   "source": [
    "unique_sentence_IDs = TRI_data.drop_duplicates(subset='sent_ID').set_index('sent_ID')\n",
    "doc_sents = [i for doc in docs for i in doc.sents]\n",
    "\n",
    "display(HTML(f'''\n",
    "<table>\n",
    "    <tr><td>Original length</td><td>{len(TRI_data)}</td></tr>\n",
    "    <tr><td>After spacy</td><td>{len(doc_sents)}</td></tr>\n",
    "    <tr><td>After <code>merge_sentences()</code></td><td>{len(sentences)}</td></tr>\n",
    "</table>\n",
    "\n",
    "With {len(TRI_data)} original sentences, spacy further splits the rows into {len(doc_sents) - len(TRI_data['texts'])} new sentences.<br>\n",
    "However, <code>merge_function()</code> merges {len(doc_sents) - len(sentences)} of those sentences, leaving {len(sentences) - len(TRI_data['texts'])} \n",
    "new sentences, that come from {len(splitted_sentences)} unique sentence IDs.<br>\n",
    "Therefore, a <b>{len(splitted_sentences)/len(unique_sentence_IDs)*100:.2f}% of unique sentences are affected</b><br>\n",
    "'''))"
   ]
  },
  {
   "cell_type": "markdown",
   "id": "545e5175-5c94-4f02-99a7-bd89c847de03",
   "metadata": {},
   "source": [
    "All positively labeled rows that have been splitted are shown below. They are divided in 3 categories: \n",
    "* TF and TG in different sentences\n",
    "* TF and TG in the same sentence\n",
    "* Both cases (depending on what TF and TG has been chosen)"
   ]
  },
  {
   "cell_type": "code",
   "execution_count": 132,
   "id": "614f33cc-bdf1-4d78-8d1b-9f7d01f09cc1",
   "metadata": {},
   "outputs": [
    {
     "name": "stdout",
     "output_type": "stream",
     "text": [
      "29\n"
     ]
    },
    {
     "data": {
      "text/html": [
       "<strong>TF and TG in different sentences</strong>"
      ],
      "text/plain": [
       "<IPython.core.display.HTML object>"
      ]
     },
     "metadata": {},
     "output_type": "display_data"
    },
    {
     "data": {
      "text/html": [
       "<table border=\"1\" class=\"dataframe\">\n",
       "  <thead>\n",
       "    <tr style=\"text-align: right;\">\n",
       "      <th></th>\n",
       "      <th>#TRI ID</th>\n",
       "      <th>Sentence</th>\n",
       "    </tr>\n",
       "  </thead>\n",
       "  <tbody>\n",
       "    <tr>\n",
       "      <th>6489</th>\n",
       "      <td>7822333:0:RELA:ICAM1</td>\n",
       "      <td>Transcriptional regulation of the <strong>[TG]</strong> gene by inflammatory cytokines in human endothelial cells.<br> Essential roles of a variant NF-kappa B site and <strong>[TF]</strong> homodimers.<br></td>\n",
       "    </tr>\n",
       "    <tr>\n",
       "      <th>7017</th>\n",
       "      <td>10373481:0:STAT5A:PRLR</td>\n",
       "      <td>Regulation of <strong>[TG]</strong> receptor (PRLR) gene expression in insulin-producing cells.<br> Prolactin and growth hormone activate one of the rat prlr gene promoters via <strong>[TF]</strong> and STAT5b.<br></td>\n",
       "    </tr>\n",
       "    <tr>\n",
       "      <th>7018</th>\n",
       "      <td>10373481:0:STAT5B:PRLR</td>\n",
       "      <td>Regulation of <strong>[TG]</strong> receptor (PRLR) gene expression in insulin-producing cells.<br> Prolactin and growth hormone activate one of the rat prlr gene promoters via STAT5a and <strong>[TF]</strong>.<br></td>\n",
       "    </tr>\n",
       "    <tr>\n",
       "      <th>7184</th>\n",
       "      <td>11274184:0:ATF4:HMOX1</td>\n",
       "      <td>Identification of <strong>[TF]</strong> (ATF4) as an Nrf2-interacting protein.<br> Implication for <strong>[TG]</strong> gene regulation.<br></td>\n",
       "    </tr>\n",
       "    <tr>\n",
       "      <th>7417</th>\n",
       "      <td>11038350:0:YY1:GAA</td>\n",
       "      <td>Transcriptional regulation of the <strong>[TG]</strong> gene.<br> Identification of a repressor element and its transcription factors Hes-1 and <strong>[TF]</strong>.<br></td>\n",
       "    </tr>\n",
       "    <tr>\n",
       "      <th>7494</th>\n",
       "      <td>11274184:0:NFE2L2:HMOX1</td>\n",
       "      <td>Identification of activating transcription factor 4 (ATF4) as an <strong>[TF]</strong>-interacting protein.<br> Implication for <strong>[TG]</strong> gene regulation.<br></td>\n",
       "    </tr>\n",
       "    <tr>\n",
       "      <th>7506</th>\n",
       "      <td>11278891:0:GATA2:EDN1</td>\n",
       "      <td>Molecular regulation of the <strong>[TG]</strong> gene by hypoxia.<br> Contributions of hypoxia-inducible factor-1, activator protein-1, <strong>[TF]</strong>, AND p300/CBP.<br></td>\n",
       "    </tr>\n",
       "    <tr>\n",
       "      <th>8012</th>\n",
       "      <td>1281483:0:AP1:ELN</td>\n",
       "      <td>Tumor necrosis factor-alpha down-regulates human <strong>[TG]</strong> gene expression.<br> Evidence for the role of <strong>[TF]</strong> in the suppression of promoter activity.<br></td>\n",
       "    </tr>\n",
       "    <tr>\n",
       "      <th>12778</th>\n",
       "      <td>9786935:0:SP3:BGN</td>\n",
       "      <td><strong>[TG]</strong> gene expression in the human leiomyosarcoma cell line SK-UT-1.<br> Basal and protein kinase A-induced transcription involves binding of Sp1-like/<strong>[TF]</strong> proteins in the proximal promoter region.<br></td>\n",
       "    </tr>\n",
       "    <tr>\n",
       "      <th>12796</th>\n",
       "      <td>9857074:0:AP1:GZMB</td>\n",
       "      <td>Down-regulation of human <strong>[TG]</strong> expression by glucocorticoids.<br> Dexamethasone inhibits binding to the Ikaros and <strong>[TF]</strong> regulatory elements of the granzyme B promoter.<br></td>\n",
       "    </tr>\n",
       "    <tr>\n",
       "      <th>13995</th>\n",
       "      <td>12399468:0:SOX9:COL9A1</td>\n",
       "      <td>Regulation of human <strong>[TG]</strong> gene expression.<br> Activation of the proximal promoter region by <strong>[TF]</strong>.<br></td>\n",
       "    </tr>\n",
       "    <tr>\n",
       "      <th>15144</th>\n",
       "      <td>11038350:0:HES1:GAA</td>\n",
       "      <td>Transcriptional regulation of the <strong>[TG]</strong> gene.<br> Identification of a repressor element and its transcription factors <strong>[TF]</strong> and YY1.<br></td>\n",
       "    </tr>\n",
       "  </tbody>\n",
       "</table>"
      ],
      "text/plain": [
       "<IPython.core.display.HTML object>"
      ]
     },
     "metadata": {},
     "output_type": "display_data"
    },
    {
     "data": {
      "text/html": [
       "<strong>TF and TG in the same sentence</strong>"
      ],
      "text/plain": [
       "<IPython.core.display.HTML object>"
      ]
     },
     "metadata": {},
     "output_type": "display_data"
    },
    {
     "data": {
      "text/html": [
       "<table border=\"1\" class=\"dataframe\">\n",
       "  <thead>\n",
       "    <tr style=\"text-align: right;\">\n",
       "      <th></th>\n",
       "      <th>#TRI ID</th>\n",
       "      <th>Sentence</th>\n",
       "    </tr>\n",
       "  </thead>\n",
       "  <tbody>\n",
       "    <tr>\n",
       "      <th>6352</th>\n",
       "      <td>11970950:3:SP1:FASLG</td>\n",
       "      <td>We recently described a novel mechanism mediating inducible <strong>[TG]</strong> gene expression in smooth muscle cells involving the zinc finger transcription factor <strong>[TF]</strong> (Kavurma, M.<br> M.<br>, Santiago, F.<br> S.<br>, Bofocco, E.<br>, and Khachigian, L.<br> M.<br> (2001) J.<br> Biol.<br> Chem.<br> 276, 4964-4971).<br></td>\n",
       "    </tr>\n",
       "    <tr>\n",
       "      <th>7726</th>\n",
       "      <td>11991951:0:ETS1:FLI1</td>\n",
       "      <td><strong>[TF]</strong> regulates <strong>[TG]</strong> expression in endothelial cells.<br> Identification of ETS binding sites in the fli-1 gene promoter.<br></td>\n",
       "    </tr>\n",
       "    <tr>\n",
       "      <th>11037</th>\n",
       "      <td>21400515:8:MYC:CDKN1A</td>\n",
       "      <td>Moreover, overexpression of THAP11 significantly decreased the colony numbers, and also inhibited the expression of <strong>[TF]</strong> target genes such as Cyclin D1, ODC and induced the expression of p21(<strong>[TG]</strong>) .<br> The depletion of THAP11 inhibited JAK2 or STAT5 inactivation-mediated c-Myc reduction in ALDH(hi) /CD34(+) CML cells.<br></td>\n",
       "    </tr>\n",
       "    <tr>\n",
       "      <th>11038</th>\n",
       "      <td>21400515:8:THAP11:CCND1</td>\n",
       "      <td>Moreover, overexpression of <strong>[TF]</strong> significantly decreased the colony numbers, and also inhibited the expression of c-myc target genes such as <strong>[TG]</strong>, ODC and induced the expression of p21(Cip1) .<br> The depletion of THAP11 inhibited JAK2 or STAT5 inactivation-mediated c-Myc reduction in ALDH(hi) /CD34(+) CML cells.<br></td>\n",
       "    </tr>\n",
       "    <tr>\n",
       "      <th>11039</th>\n",
       "      <td>21400515:8:THAP11:CDKN1A</td>\n",
       "      <td>Moreover, overexpression of <strong>[TF]</strong> significantly decreased the colony numbers, and also inhibited the expression of c-myc target genes such as Cyclin D1, ODC and induced the expression of p21(<strong>[TG]</strong>) .<br> The depletion of THAP11 inhibited JAK2 or STAT5 inactivation-mediated c-Myc reduction in ALDH(hi) /CD34(+) CML cells.<br></td>\n",
       "    </tr>\n",
       "    <tr>\n",
       "      <th>11051</th>\n",
       "      <td>21421043:10:ATF3:TREM1</td>\n",
       "      <td>5.<br> We found using binding site prediction and ChIP assays that the TFs EGR3 and <strong>[TF]</strong> indeed bound to the <strong>[TG]</strong> promoter, PU.<br>1 bound to both the TREM-1 and DAP12 promoter.<br></td>\n",
       "    </tr>\n",
       "    <tr>\n",
       "      <th>12514</th>\n",
       "      <td>8276360:3:AP1:MYC</td>\n",
       "      <td>In this study, we investigated the mechanism of target gene stimulation by preS2/St.<br> It was found that deletion of a fragment containing the binding site for transcription factor <strong>[TF]</strong> (Jun-Fos) substantially decreases inducibility of the human <strong>[TG]</strong> promoter by preS2/St.<br> A subsequent investigation of AP-1 activation by preS2/St revealed the following: (a) insertion of multimeric AP-1 binding sites confers inducibility to an otherwise unstimulatable test promoter; (b) transactivation of AP-1 sites is dramatically increased when Jun and Fos are overexpressed by cotransfected expression plasmids; and (c) inhibitors of AP-1 activation also impair transactivation by preS2/St.<br> Besides AP-1, preS2/St was also able to utilize the unrelated transcription factors NF-kappa B and AP-2 for transactivation, suggesting that the gene product of preS2/St acts indirectly through one or several general cellular pathways rather than as a bona fide transcription factor.<br></td>\n",
       "    </tr>\n",
       "    <tr>\n",
       "      <th>12515</th>\n",
       "      <td>8276360:3:FOS:MYC</td>\n",
       "      <td>In this study, we investigated the mechanism of target gene stimulation by preS2/St.<br> It was found that deletion of a fragment containing the binding site for transcription factor <strong>[TF]</strong> (Jun-Fos) substantially decreases inducibility of the human <strong>[TG]</strong> promoter by preS2/St.<br> A subsequent investigation of AP-1 activation by preS2/St revealed the following: (a) insertion of multimeric AP-1 binding sites confers inducibility to an otherwise unstimulatable test promoter; (b) transactivation of AP-1 sites is dramatically increased when Jun and Fos are overexpressed by cotransfected expression plasmids; and (c) inhibitors of AP-1 activation also impair transactivation by preS2/St.<br> Besides AP-1, preS2/St was also able to utilize the unrelated transcription factors NF-kappa B and AP-2 for transactivation, suggesting that the gene product of preS2/St acts indirectly through one or several general cellular pathways rather than as a bona fide transcription factor.<br></td>\n",
       "    </tr>\n",
       "    <tr>\n",
       "      <th>12794</th>\n",
       "      <td>9837963:0:KLF6:TGFB1</td>\n",
       "      <td>Transcriptional activation of <strong>[TG]</strong> and its receptors by the Kruppel-like factor <strong>[TF]</strong>/core promoter-binding protein and Sp1.<br> Potential mechanisms for autocrine fibrogenesis in response to injury.<br></td>\n",
       "    </tr>\n",
       "    <tr>\n",
       "      <th>15102</th>\n",
       "      <td>9837963:0:SP1:TGFB1</td>\n",
       "      <td>Transcriptional activation of <strong>[TG]</strong> and its receptors by the Kruppel-like factor Zf9/core promoter-binding protein and <strong>[TF]</strong>.<br> Potential mechanisms for autocrine fibrogenesis in response to injury.<br></td>\n",
       "    </tr>\n",
       "  </tbody>\n",
       "</table>"
      ],
      "text/plain": [
       "<IPython.core.display.HTML object>"
      ]
     },
     "metadata": {},
     "output_type": "display_data"
    },
    {
     "data": {
      "text/html": [
       "<strong>Both casuistics</strong>"
      ],
      "text/plain": [
       "<IPython.core.display.HTML object>"
      ]
     },
     "metadata": {},
     "output_type": "display_data"
    },
    {
     "data": {
      "text/html": [
       "<table border=\"1\" class=\"dataframe\">\n",
       "  <thead>\n",
       "    <tr style=\"text-align: right;\">\n",
       "      <th></th>\n",
       "      <th>#TRI ID</th>\n",
       "      <th>Sentence</th>\n",
       "    </tr>\n",
       "  </thead>\n",
       "  <tbody>\n",
       "    <tr>\n",
       "      <th>6108</th>\n",
       "      <td>22911891:8:NFE2L2:PTGS2</td>\n",
       "      <td><strong>[TF]</strong>KO decreased the protein expression of antioxidant enzyme NQO1 in Apc(min/+) .<br> In contrast, Nrf2KO enhanced the expression of inflammatory markers such as <strong>[TG]</strong>, cPLA, LTB4 in Apc(min/+) .<br> Finally, Nrf2KO resulted in higher level of PCNA and c-Myc expression in intestinal tissue, indicating the deficiency of Nrf2 promotes proliferation of intestinal crypt cells in Apc(min/+) .<br> Taken together, our results suggest that Nrf2KO attenuates anti-oxidative stress pathway, induces inflammation, and increases proliferative potential in the intestinal crypts leading to enhanced intestinal carcinogenesis and adenomas in Apc(min/+) .<br></td>\n",
       "    </tr>\n",
       "    <tr>\n",
       "      <th>11732</th>\n",
       "      <td>22911891:8:NFE2L2:MYC</td>\n",
       "      <td><strong>[TF]</strong>KO decreased the protein expression of antioxidant enzyme NQO1 in Apc(min/+) .<br> In contrast, Nrf2KO enhanced the expression of inflammatory markers such as COX-2, cPLA, LTB4 in Apc(min/+) .<br> Finally, Nrf2KO resulted in higher level of PCNA and <strong>[TG]</strong> expression in intestinal tissue, indicating the deficiency of Nrf2 promotes proliferation of intestinal crypt cells in Apc(min/+) .<br> Taken together, our results suggest that Nrf2KO attenuates anti-oxidative stress pathway, induces inflammation, and increases proliferative potential in the intestinal crypts leading to enhanced intestinal carcinogenesis and adenomas in Apc(min/+) .<br></td>\n",
       "    </tr>\n",
       "    <tr>\n",
       "      <th>11733</th>\n",
       "      <td>22911891:8:NFE2L2:PCNA</td>\n",
       "      <td><strong>[TF]</strong>KO decreased the protein expression of antioxidant enzyme NQO1 in Apc(min/+) .<br> In contrast, Nrf2KO enhanced the expression of inflammatory markers such as COX-2, cPLA, LTB4 in Apc(min/+) .<br> Finally, Nrf2KO resulted in higher level of <strong>[TG]</strong> and c-Myc expression in intestinal tissue, indicating the deficiency of Nrf2 promotes proliferation of intestinal crypt cells in Apc(min/+) .<br> Taken together, our results suggest that Nrf2KO attenuates anti-oxidative stress pathway, induces inflammation, and increases proliferative potential in the intestinal crypts leading to enhanced intestinal carcinogenesis and adenomas in Apc(min/+) .<br></td>\n",
       "    </tr>\n",
       "    <tr>\n",
       "      <th>15520</th>\n",
       "      <td>22911891:8:NFE2L2:NQO1</td>\n",
       "      <td><strong>[TF]</strong>KO decreased the protein expression of antioxidant enzyme <strong>[TG]</strong> in Apc(min/+) .<br> In contrast, Nrf2KO enhanced the expression of inflammatory markers such as COX-2, cPLA, LTB4 in Apc(min/+) .<br> Finally, Nrf2KO resulted in higher level of PCNA and c-Myc expression in intestinal tissue, indicating the deficiency of Nrf2 promotes proliferation of intestinal crypt cells in Apc(min/+) .<br> Taken together, our results suggest that Nrf2KO attenuates anti-oxidative stress pathway, induces inflammation, and increases proliferative potential in the intestinal crypts leading to enhanced intestinal carcinogenesis and adenomas in Apc(min/+) .<br></td>\n",
       "    </tr>\n",
       "  </tbody>\n",
       "</table>"
      ],
      "text/plain": [
       "<IPython.core.display.HTML object>"
      ]
     },
     "metadata": {},
     "output_type": "display_data"
    }
   ],
   "source": [
    "# Save the ids from splitted sentences with label = 1\n",
    "label_1_splitted_ids = []\n",
    "for id, sents in splitted_sentences.items():\n",
    "    for sent_list in sents:\n",
    "        if sent_list[1] == 1:\n",
    "            label_1_splitted_ids.append(id)\n",
    "\n",
    "print(len(TRI_data[TRI_data['sent_ID'].isin(label_1_splitted_ids)]))\n",
    "\n",
    "# Function to replace occurrences of a word with the word wrapped in <strong> tags\n",
    "def highlight_word(text):\n",
    "    for word in ['[TF]', '[TG]']:\n",
    "        text = text.replace(word, f'<strong>{word}</strong>')\n",
    "    text = text.replace('.', '.<br>')    \n",
    "    return text\n",
    "\n",
    "# Sentences have been divided into 3 categories:\n",
    "TF_TG_Together  = ['11970950:3',  '11991951:0', '21400515:8', '21421043:10', '8276360:3','9837963:0']\n",
    "both            = ['22911891:8']\n",
    "TF_TG_separated = ['7822333:0', '10373481:0', '11274184:0', '11038350:0', '11278891:0',\n",
    "                   '1281483:0', '9786935:0', '9857074:0', '12399468:0']\n",
    "\n",
    "pd.set_option('display.max_colwidth', 1000)\n",
    "for list_ids, title in zip([TF_TG_separated, TF_TG_Together, both], \n",
    "                       ['TF and TG in different sentences', 'TF and TG in the same sentence', 'Both casuistics']):\n",
    "    df = TRI_data[(TRI_data['sent_ID'].isin(list_ids)) & (TRI_data['labels'] == 1)][['#TRI ID', 'Sentence']]\n",
    "    df['Sentence'] = df['Sentence'].apply(lambda x: highlight_word(x))\n",
    "    html_df = df.to_html(escape=False)\n",
    "    \n",
    "    display(HTML(f'<strong>{title}</strong>'))\n",
    "    display(HTML(html_df))"
   ]
  },
  {
   "cell_type": "markdown",
   "id": "82d2ae33-a1c7-4c86-b78a-bdef02c6d054",
   "metadata": {},
   "source": [
    "### Ability to separate sentences"
   ]
  },
  {
   "cell_type": "markdown",
   "id": "c8863e01-72b6-4b72-8c79-97faed8d77cd",
   "metadata": {},
   "source": [
    "**Playing around with random sentences**\n",
    "\n",
    "Trying out some sentences to see how does it behave in different scenarios"
   ]
  },
  {
   "cell_type": "code",
   "execution_count": 136,
   "id": "b675b6a6-6f2b-4932-932e-02afafcfe09e",
   "metadata": {
    "jupyter": {
     "source_hidden": true
    }
   },
   "outputs": [
    {
     "name": "stdout",
     "output_type": "stream",
     "text": [
      "Correctly splitted\n",
      "\tThe R2 value was found to be 0.85, indicating a strong correlation.\n",
      "\tThe patient was diagnosed with COPD (Chronic Obstructive Pulmonary Disease).\n",
      "\tThese findings weresimilar to those reported by Smith et al. in their 2018 study.\n",
      "\tThe standard treatment protocol includes 5-FU, followed by radiation therapy.\n",
      "\tThe MRI scan wasperformed at 1.5 T. Dr. Smith reviewed the report before the meeting.\n",
      "\tMrs. Johnson will be attending the conference with Prof. Green.\n",
      "\tThe meeting was scheduled for Jan. 20th, 2021.\n",
      "\tShe moved to Washington, D.C. last year.\n",
      "\tThe U.S. is known for its diverse culture.\n",
      "\tHe lives on the St. Louis street.\n",
      "\tThe package was marked as fragile, i.e., handle with care.\n",
      "\tRemember to check the P.O. Box tomorrow.\n",
      "\tResults reported by Sato et al. in this issue of Neuron now show that the transactivatorRora acts coordinately with [TG].\n",
      "Incorrectly splitted\n",
      "\tThe concentration of MgSO4 was maintained at 0.5 mM. In fig. 3, we illustrate the cell's response to the treatment.\n",
      "\tRefer to Table 1.\n",
      "\tfor a summary of patient demographics\n",
      "\t.\n",
      "\tFurther details can be found in Johnson et al., J. Med. Chem., 2020.\n",
      "\tThe chemical formula for water is H2O. Please refer to sec. 3.2 of the document for more details.\n",
      "\tThe temperature dropped to -10 deg.\n",
      "\tCelsius.\n"
     ]
    }
   ],
   "source": [
    "# Alternative sentences\n",
    "incorrect = nlp(\"The concentration of MgSO4 was maintained at 0.5 mM. In fig. 3, we illustrate the cell's response \"\n",
    "                \"to the treatment. Refer to Table 1. for a summary of patient demographics. Further details can be found \"\n",
    "                \"in Johnson et al., J. Med. Chem., 2020. The chemical formula for water is H2O. Please refer to sec. 3.2 \"\n",
    "                \"of the document for more details. The temperature dropped to -10 deg. Celsius.\") \n",
    "doc = nlp(\"The R2 value was found to be 0.85, indicating a strong correlation. The patient was diagnosed with COPD (Chronic Obstructive Pulmonary Disease). These findings were\"\n",
    "          \"similar to those reported by Smith et al. in their 2018 study. The standard treatment protocol includes 5-FU, followed by radiation therapy. The MRI scan was\"\n",
    "          \"performed at 1.5 T. Dr. Smith reviewed the report before the meeting. Mrs. Johnson will be attending the conference \"\n",
    "          \"with Prof. Green. The meeting was scheduled for Jan. 20th, 2021. She moved to Washington, D.C. last year. The U.S. is \"\n",
    "          \"known for its diverse culture. He lives on the St. Louis street. The package was marked as fragile, i.e., handle with care. Remember to check the P.O. Box tomorrow. Results reported by Sato et al. in this issue of Neuron now show that the transactivator\" \n",
    "                \"Rora acts coordinately with [TG].\")\n",
    "correct_sent = [sent.text for sent in doc.sents]\n",
    "incorrect_sent = [sent.text for sent in incorrect.sents]\n",
    "print('Correctly splitted')\n",
    "for sent in correct_sent:\n",
    "    print(f'\\t{sent}')\n",
    "print('Incorrectly splitted')\n",
    "for sent in incorrect_sent:\n",
    "    print(f'\\t{sent}')"
   ]
  },
  {
   "cell_type": "markdown",
   "id": "3bc70a78-dfb0-4666-b906-5c722dce001d",
   "metadata": {},
   "source": [
    "The spacy ner seems to work very well. If any problem is found, a possible alternative is:\n",
    "https://github.com/victoriastuart/biomedical-sentence-splitter.r.lls."
   ]
  },
  {
   "cell_type": "code",
   "execution_count": null,
   "id": "57ba5141-24cd-47f8-b588-3dc7e0a5b0e5",
   "metadata": {
    "jupyter": {
     "source_hidden": true
    }
   },
   "outputs": [],
   "source": []
  },
  {
   "cell_type": "markdown",
   "id": "86b91c57-646d-4000-8147-c818c565a191",
   "metadata": {},
   "source": [
    "### Other problems with TRI dataset"
   ]
  },
  {
   "cell_type": "code",
   "execution_count": 137,
   "id": "0e308366-48f9-40ef-84c1-95b16aae319d",
   "metadata": {
    "jupyter": {
     "source_hidden": true
    }
   },
   "outputs": [
    {
     "data": {
      "text/html": [
       "\n",
       "<table>\n",
       "    <tr><td># sentences</td><td>22135</td></tr>\n",
       "    <tr><td># duplicated rows</td><td>738</td></tr>\n",
       "    <tr><td># sentences with duplicated rows</td><td>364</td></tr>\n",
       "    <tr><td># unique sentence IDs</td><td>318</td></tr>    \n",
       "</table>\n",
       "Example:\n"
      ],
      "text/plain": [
       "<IPython.core.display.HTML object>"
      ]
     },
     "metadata": {},
     "output_type": "display_data"
    },
    {
     "data": {
      "text/html": [
       "<div>\n",
       "<style scoped>\n",
       "    .dataframe tbody tr th:only-of-type {\n",
       "        vertical-align: middle;\n",
       "    }\n",
       "\n",
       "    .dataframe tbody tr th {\n",
       "        vertical-align: top;\n",
       "    }\n",
       "\n",
       "    .dataframe thead th {\n",
       "        text-align: right;\n",
       "    }\n",
       "</style>\n",
       "<table border=\"1\" class=\"dataframe\">\n",
       "  <thead>\n",
       "    <tr style=\"text-align: right;\">\n",
       "      <th></th>\n",
       "      <th>#TRI ID</th>\n",
       "      <th>TF</th>\n",
       "      <th>TG</th>\n",
       "      <th>Sentence</th>\n",
       "    </tr>\n",
       "  </thead>\n",
       "  <tbody>\n",
       "    <tr>\n",
       "      <th>12514</th>\n",
       "      <td>8276360:3:AP1:MYC</td>\n",
       "      <td>AP-1</td>\n",
       "      <td>c-myc</td>\n",
       "      <td>In this study, we investigated the mechanism of target gene stimulation by preS2/St. It was found that deletion of a fragment containing the binding site for transcription factor [TF] (Jun-Fos) substantially decreases inducibility of the human [TG] promoter by preS2/St. A subsequent investigation of AP-1 activation by preS2/St revealed the following: (a) insertion of multimeric AP-1 binding sites confers inducibility to an otherwise unstimulatable test promoter; (b) transactivation of AP-1 sites is dramatically increased when Jun and Fos are overexpressed by cotransfected expression plasmids; and (c) inhibitors of AP-1 activation also impair transactivation by preS2/St. Besides AP-1, preS2/St was also able to utilize the unrelated transcription factors NF-kappa B and AP-2 for transactivation, suggesting that the gene product of preS2/St acts indirectly through one or several general cellular pathways rather than as a bona fide transcription factor.</td>\n",
       "    </tr>\n",
       "    <tr>\n",
       "      <th>12515</th>\n",
       "      <td>8276360:3:FOS:MYC</td>\n",
       "      <td>AP-1</td>\n",
       "      <td>c-myc</td>\n",
       "      <td>In this study, we investigated the mechanism of target gene stimulation by preS2/St. It was found that deletion of a fragment containing the binding site for transcription factor [TF] (Jun-Fos) substantially decreases inducibility of the human [TG] promoter by preS2/St. A subsequent investigation of AP-1 activation by preS2/St revealed the following: (a) insertion of multimeric AP-1 binding sites confers inducibility to an otherwise unstimulatable test promoter; (b) transactivation of AP-1 sites is dramatically increased when Jun and Fos are overexpressed by cotransfected expression plasmids; and (c) inhibitors of AP-1 activation also impair transactivation by preS2/St. Besides AP-1, preS2/St was also able to utilize the unrelated transcription factors NF-kappa B and AP-2 for transactivation, suggesting that the gene product of preS2/St acts indirectly through one or several general cellular pathways rather than as a bona fide transcription factor.</td>\n",
       "    </tr>\n",
       "  </tbody>\n",
       "</table>\n",
       "</div>"
      ],
      "text/plain": [
       "                 #TRI ID    TF     TG  \\\n",
       "12514  8276360:3:AP1:MYC  AP-1  c-myc   \n",
       "12515  8276360:3:FOS:MYC  AP-1  c-myc   \n",
       "\n",
       "                                                                                                                                                                                                                                                                                                                                                                                                                                                                                                                                                                                                                                                                                                                                                                                                                                                                                                                                                                                                 Sentence  \n",
       "12514  In this study, we investigated the mechanism of target gene stimulation by preS2/St. It was found that deletion of a fragment containing the binding site for transcription factor [TF] (Jun-Fos) substantially decreases inducibility of the human [TG] promoter by preS2/St. A subsequent investigation of AP-1 activation by preS2/St revealed the following: (a) insertion of multimeric AP-1 binding sites confers inducibility to an otherwise unstimulatable test promoter; (b) transactivation of AP-1 sites is dramatically increased when Jun and Fos are overexpressed by cotransfected expression plasmids; and (c) inhibitors of AP-1 activation also impair transactivation by preS2/St. Besides AP-1, preS2/St was also able to utilize the unrelated transcription factors NF-kappa B and AP-2 for transactivation, suggesting that the gene product of preS2/St acts indirectly through one or several general cellular pathways rather than as a bona fide transcription factor.  \n",
       "12515  In this study, we investigated the mechanism of target gene stimulation by preS2/St. It was found that deletion of a fragment containing the binding site for transcription factor [TF] (Jun-Fos) substantially decreases inducibility of the human [TG] promoter by preS2/St. A subsequent investigation of AP-1 activation by preS2/St revealed the following: (a) insertion of multimeric AP-1 binding sites confers inducibility to an otherwise unstimulatable test promoter; (b) transactivation of AP-1 sites is dramatically increased when Jun and Fos are overexpressed by cotransfected expression plasmids; and (c) inhibitors of AP-1 activation also impair transactivation by preS2/St. Besides AP-1, preS2/St was also able to utilize the unrelated transcription factors NF-kappa B and AP-2 for transactivation, suggesting that the gene product of preS2/St acts indirectly through one or several general cellular pathways rather than as a bona fide transcription factor.  "
      ]
     },
     "metadata": {},
     "output_type": "display_data"
    }
   ],
   "source": [
    "# Create a mask for all duplicated rows and apply it to the data\n",
    "duplicates_mask = TRI_data.duplicated(subset=['TF', 'TG', 'sent_ID'], keep=False)\n",
    "\n",
    "# Apply to the data and drop duplicates\n",
    "unique_duplicates = TRI_data[duplicates_mask].drop_duplicates(subset=['TF', 'TG', 'sent_ID'])\n",
    "\n",
    "display(HTML(f'''\n",
    "<table>\n",
    "    <tr><td># sentences</td><td>{len(TRI_data)}</td></tr>\n",
    "    <tr><td># duplicated rows</td><td>{sum(duplicates_mask)}</td></tr>\n",
    "    <tr><td># sentences with duplicated rows</td><td>{len(unique_duplicates)}</td></tr>\n",
    "    <tr><td># unique sentence IDs</td><td>{len(unique_duplicates[\"sent_ID\"].unique())}</td></tr>    \n",
    "</table>\n",
    "Example:\n",
    "'''),\n",
    "TRI_data[(TRI_data['sent_ID'] == '8276360:3') & (TRI_data['labels'] == 1)][['#TRI ID', 'TF', 'TG', 'Sentence']])"
   ]
  },
  {
   "cell_type": "markdown",
   "id": "7758acfe",
   "metadata": {},
   "source": [
    "# Check `pubtator_to_coll.py` file"
   ]
  },
  {
   "cell_type": "markdown",
   "id": "23212ba8",
   "metadata": {},
   "source": [
    "Check whether the script `pubtator_to_coll.py` works as expected. The file creates a collection of documents with the text, sentences and annotations from a Pubtator file."
   ]
  },
  {
   "cell_type": "code",
   "execution_count": 11,
   "id": "e8e34088",
   "metadata": {},
   "outputs": [
    {
     "name": "stdout",
     "output_type": "stream",
     "text": [
      "65.pubtator\n"
     ]
    }
   ],
   "source": [
    "!ls ../pubtator/bioc_to_pubtator/truncated_pubtator/"
   ]
  },
  {
   "cell_type": "code",
   "execution_count": 1,
   "id": "ab420c44",
   "metadata": {},
   "outputs": [
    {
     "name": "stderr",
     "output_type": "stream",
     "text": [
      "/home/nuriafari/sandbox/ExTRI2_classifiers/.env_extri2/lib/python3.11/site-packages/spacy/language.py:2141: FutureWarning: Possible set union at position 6328\n",
      "  deserializers[\"tokenizer\"] = lambda p: self.tokenizer.from_disk(  # type: ignore[union-attr]\n"
     ]
    },
    {
     "data": {
      "text/plain": [
       "<pubtator_to_coll.DocumentCollection at 0x7f3c441d5450>"
      ]
     },
     "execution_count": 1,
     "metadata": {},
     "output_type": "execute_result"
    }
   ],
   "source": [
    "# Create collection\n",
    "from pubtator_to_coll import pubtator_to_collection, add_sentences_to_coll\n",
    "\n",
    "pubtator_path = '../pubtator/bioc_to_pubtator/truncated_pubtator/'\n",
    "collection = pubtator_to_collection(pubtator_path)\n",
    "add_sentences_to_coll(collection)"
   ]
  },
  {
   "cell_type": "code",
   "execution_count": 2,
   "id": "ababe002",
   "metadata": {},
   "outputs": [],
   "source": [
    "# PREVIOUS CHECKS\n",
    "\n",
    "# This collection was bringing me problems but I fixed it\n",
    "# print(collection['PMC8653174'].text)\n",
    "\n",
    "# Check whether sentence text and PubTator annotations characters coincide - if no output, all annotations coincide.\n",
    "# This has already been implemented in the Document class and is no longer necessary\n",
    "for doc, sent in ((doc, sent) for doc in collection for sent in doc.sents):\n",
    "    for gene in doc.genes:\n",
    "        if (gene.start_char >= sent.start_char) & (gene.end_char < sent.end_char):\n",
    "            # Get the annotation inside the sentence\n",
    "            sent_gene_text = sent.text[gene.start_char - sent.start_char:gene.end_char - sent.start_char]\n",
    "            if not gene.text == sent_gene_text:\n",
    "                print(f\"{doc.PMID}: {gene.text} and {sent_gene_text} don't coincide\")\n",
    "                print(sent.text[gene.start_char - sent.start_char - 50:gene.end_char - sent.start_char])\n",
    "                print()"
   ]
  },
  {
   "cell_type": "code",
   "execution_count": 3,
   "id": "c79b8aa5",
   "metadata": {},
   "outputs": [
    {
     "name": "stdout",
     "output_type": "stream",
     "text": [
      "\n",
      "PMIDs                    1630\n",
      "sents                    17247\n",
      "species                  6040\n",
      "unique species           272\n",
      "PMIDs with species       1306  (80%)\n",
      "PMIDs with humans        892   (55%)\n",
      "\n"
     ]
    }
   ],
   "source": [
    "import pandas as pd\n",
    "# Some analysis of the data\n",
    "num_ids = len(collection)\n",
    "num_sentences = len([sent for doc in collection for sent in doc.sents] )\n",
    "genes   = [gene.ID  for doc in collection for gene in doc.genes]\n",
    "species_df = pd.DataFrame([[specie.ID, doc.PMID] for doc in collection for specie in doc.species], columns=['specieID', 'PMID'])\n",
    "\n",
    "print(f'''\n",
    "{'PMIDs':<25}{num_ids}\n",
    "{'sents':<25}{num_sentences}\n",
    "{'species':<25}{len(species_df)}\n",
    "{'unique species':<25}{len(set(species_df[\"specieID\"]))}\n",
    "{'PMIDs with species':<25}{len(species_df[\"PMID\"].unique()):<6}({len(species_df[\"PMID\"].unique())/num_ids*100:.0f}%)\n",
    "{'PMIDs with humans':<25}{len(species_df[species_df[\"specieID\"] == \"9606\"][\"PMID\"].unique()):<6}({len(species_df[species_df[\"specieID\"] == \"9606\"][\"PMID\"].unique())/num_ids*100:.0f}%)\n",
    "''')"
   ]
  }
 ],
 "metadata": {
  "kernelspec": {
   "display_name": ".env_extri2",
   "language": "python",
   "name": ".env_extri2"
  },
  "language_info": {
   "codemirror_mode": {
    "name": "ipython",
    "version": 3
   },
   "file_extension": ".py",
   "mimetype": "text/x-python",
   "name": "python",
   "nbconvert_exporter": "python",
   "pygments_lexer": "ipython3",
   "version": "3.11.5"
  }
 },
 "nbformat": 4,
 "nbformat_minor": 5
}
