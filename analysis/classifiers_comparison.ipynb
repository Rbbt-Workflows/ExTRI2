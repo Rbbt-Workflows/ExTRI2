{
 "cells": [
  {
   "cell_type": "markdown",
   "id": "8a765ade-a477-42cf-af86-48c7f3e28616",
   "metadata": {},
   "source": [
    "# classifiers comparision"
   ]
  },
  {
   "cell_type": "code",
   "execution_count": 2,
   "id": "1c3cc277",
   "metadata": {},
   "outputs": [
    {
     "data": {
      "text/markdown": [
       "<h3>Table of contents</h3>"
      ],
      "text/plain": [
       "<IPython.core.display.Markdown object>"
      ]
     },
     "metadata": {},
     "output_type": "display_data"
    },
    {
     "data": {
      "text/markdown": [
       "[classifiers comparision](#classifiers-comparision)\n",
       "- [Functions](#Functions)\n",
       "- [TRI classifiers](#TRI-classifiers)\n",
       "- [MoR classifiers](#MoR-classifiers)"
      ],
      "text/plain": [
       "<IPython.core.display.Markdown object>"
      ]
     },
     "metadata": {},
     "output_type": "display_data"
    }
   ],
   "source": [
    "## Custom functions\n",
    "import sys\n",
    "sys.path.append('../common')\n",
    "from analysis_utils import prettify_plots, plot_seqlen_distribution\n",
    "from notebook_utils import table_of_contents, table_from_dict\n",
    "table_of_contents('classifiers_comparison.ipynb')"
   ]
  },
  {
   "cell_type": "code",
   "execution_count": 3,
   "id": "5ef63bb5-c90f-45ee-ae7b-eb414744c783",
   "metadata": {
    "jupyter": {
     "source_hidden": true
    }
   },
   "outputs": [],
   "source": [
    "# IMPORTS\n",
    "# Display\n",
    "from IPython.display import display, HTML\n",
    "from IPython.display import Markdown as md\n",
    "import matplotlib.pyplot as plt\n",
    "import matplotlib.patches as patches\n",
    "\n",
    "# Basics\n",
    "import numpy as np\n",
    "import pandas as pd\n",
    "import os\n",
    "import json\n",
    "import re\n",
    "import ast\n",
    "\n",
    "# Set pandas display option for floating-point numbers\n",
    "pd.options.display.float_format = '{:.2f}'.format"
   ]
  },
  {
   "cell_type": "code",
   "execution_count": 13,
   "id": "4b0df94e-2adb-4a9a-8e0f-2d1be35e4820",
   "metadata": {
    "jupyter": {
     "source_hidden": true
    }
   },
   "outputs": [],
   "source": [
    "# Define variables\n",
    "metrics = ['accuracy', 'f1_score', 'recall', 'precision'] #, 'auroc' doesn't really seem very useful, it just goes to 1\n",
    "columns = ['model_name'] + metrics + [m+'_std' for m in metrics]\n",
    "MODELS_FOLDER = '../../classifiers_training/saved_models/'"
   ]
  },
  {
   "cell_type": "markdown",
   "id": "df9db007",
   "metadata": {},
   "source": [
    "## Functions"
   ]
  },
  {
   "cell_type": "code",
   "execution_count": 59,
   "id": "df4545b9",
   "metadata": {},
   "outputs": [],
   "source": [
    "# FUNCTIONS\n",
    "def load_params(file_path):\n",
    "    with open(file_path) as json_file:\n",
    "        return json.load(json_file)\n",
    "\n",
    "def get_meaned_comparison_df(models_path, models_list):\n",
    "    \n",
    "    # Get the type of classifier from the models_path\n",
    "    TRI = 'TRI' in models_path\n",
    "    MoR = 'MoR' in models_path\n",
    "\n",
    "    def process_metrics(report_df):\n",
    "        metrics_df = report_df.drop(columns=['confusion', 'fold', 'probabilities', 'labels', 'val_texts'])  \n",
    "\n",
    "        if TRI:\n",
    "            # Average all columns\n",
    "            metrics_mean = metrics_df.mean().to_frame().T\n",
    "            metrics_std = metrics_df.std().add_suffix('_std').to_frame().T\n",
    "            metrics_df = pd.concat([metrics_mean, metrics_std], axis=1)\n",
    "\n",
    "        elif MoR:\n",
    "            # Get the mean of the 5 folds per label, with 'decs' decimals\n",
    "            decs = 2\n",
    "            metrics_mean = metrics_df.apply(lambda x: [np.mean(np.stack(x), axis=0)] , axis=0)\n",
    "            metrics_mean = metrics_mean.map(lambda x: [round(num, decs) for num in x]) \n",
    "\n",
    "            # Get the std of the 5 folds per label, using ceil with 'decs' decimals\n",
    "            metrics_std = metrics_df.apply(lambda x: [np.std(np.stack(x), axis=0)] , axis=0).add_suffix('_std')\n",
    "            metrics_std = metrics_std.map(lambda x: [round(np.ceil(num*10**decs)*10**-decs, decs) for num in x]) \n",
    "            \n",
    "            metrics_df = pd.concat([metrics_mean, metrics_std], axis=1) \n",
    "            \n",
    "            # Average the metrics per label, leaving 1 value \n",
    "            metrics_mean_mean = metrics_mean.map(lambda x: np.mean(x)).add_suffix('_mean')\n",
    "            metrics_df = pd.concat([metrics_df, metrics_mean_mean], axis=1) \n",
    "            \n",
    "        else:\n",
    "            print('Sth went wrong')\n",
    "        return metrics_df\n",
    "\n",
    "    def process_confusion_matrices(report_df):\n",
    "        confusion = report_df[['confusion']].apply(lambda x: [np.sum(np.stack(x), axis=0)] , axis=0)\n",
    "        return confusion\n",
    "            \n",
    "    dfs = []\n",
    "    for model_name in models_list:\n",
    "        params = load_params(os.path.join(models_path, model_name, \"train_params.json\"))\n",
    "        \n",
    "        # Convert report_df to DataFrame and process\n",
    "        report_df = pd.DataFrame(params['report_df'])\n",
    "\n",
    "        # Average / sum metrics\n",
    "        confusion = process_confusion_matrices(report_df)\n",
    "        metrics = process_metrics(report_df)\n",
    "        metrics = metrics.join(confusion)\n",
    "        \n",
    "        # Add model information\n",
    "        metrics['pretrained_model'] = params['pretrained_model']\n",
    "        metrics['weights'] = '_'.join(map(str, params['train_loss_weights']))\n",
    "        metrics['model_name'] = model_name\n",
    "        metrics['num_epochs'] = params['num_epochs']\n",
    "        for preds in ['probabilities', 'labels', 'val_texts']:\n",
    "            metrics[preds] = report_df[preds]\n",
    "\n",
    "        dfs.append(metrics)\n",
    "        \n",
    "    return pd.concat(dfs, ignore_index=True)\n",
    "\n",
    "def highlight_max_num(col):\n",
    "    '''Highlight the max number per column'''\n",
    "    col = round(col, 2)\n",
    "    max_num = max(col)\n",
    "    col = col.replace(max_num, f'<b>{max_num}</b>')\n",
    "    return col\n",
    "\n",
    "def plot_evaluation_parameters(ax, df, title, legend=True):\n",
    "    '''\n",
    "    df: DataFrame with ['model_name']\n",
    "    '''\n",
    "    if 'model_name' not in df.columns:\n",
    "        raise ValueError(\"DataFrame must have column 'model_name'\")\n",
    "    # Get the relevant columns\n",
    "    \n",
    "    # Melt the DataFrame to make it long-form\n",
    "    df_melted = df.melt(id_vars='model_name', var_name='metric', value_name='score')\n",
    "    \n",
    "    # Plot each metric for each model\n",
    "    for model_name in df['model_name'].unique():\n",
    "        subset = df_melted[df_melted['model_name'] == model_name]\n",
    "        ax.plot(subset['metric'], subset['score'], marker='o', label=model_name)\n",
    "    \n",
    "    # Add labels and title\n",
    "    ax.set_title(title)\n",
    "    ax.set_ylabel('Score')\n",
    "    if legend:\n",
    "        ax.legend()"
   ]
  },
  {
   "cell_type": "markdown",
   "id": "8be398a8-6dd3-476d-a3bb-19c4ff3b2ecc",
   "metadata": {},
   "source": [
    "## TRI classifiers"
   ]
  },
  {
   "cell_type": "code",
   "execution_count": 14,
   "id": "91f480e8",
   "metadata": {},
   "outputs": [],
   "source": [
    "!ls \"{MODELS_FOLDER}TRI_classifier/\""
   ]
  },
  {
   "cell_type": "code",
   "execution_count": 15,
   "id": "75811c72-18e3-41de-ba78-4f71fd57442f",
   "metadata": {},
   "outputs": [
    {
     "ename": "ValueError",
     "evalue": "list.remove(x): x not in list",
     "output_type": "error",
     "traceback": [
      "\u001b[0;31m---------------------------------------------------------------------------\u001b[0m",
      "\u001b[0;31mValueError\u001b[0m                                Traceback (most recent call last)",
      "Cell \u001b[0;32mIn[15], line 3\u001b[0m\n\u001b[1;32m      1\u001b[0m TRI_folder \u001b[38;5;241m=\u001b[39m MODELS_FOLDER \u001b[38;5;241m+\u001b[39m \u001b[38;5;124m'\u001b[39m\u001b[38;5;124mTRI_classifier/\u001b[39m\u001b[38;5;124m'\u001b[39m\n\u001b[1;32m      2\u001b[0m TRI_models \u001b[38;5;241m=\u001b[39m os\u001b[38;5;241m.\u001b[39mlistdir(TRI_folder)\n\u001b[0;32m----> 3\u001b[0m \u001b[43mTRI_models\u001b[49m\u001b[38;5;241;43m.\u001b[39;49m\u001b[43mremove\u001b[49m\u001b[43m(\u001b[49m\u001b[38;5;124;43m'\u001b[39;49m\u001b[38;5;124;43mbefore_3rd_validation\u001b[39;49m\u001b[38;5;124;43m'\u001b[39;49m\u001b[43m)\u001b[49m\n\u001b[1;32m      5\u001b[0m TRI_df \u001b[38;5;241m=\u001b[39m get_meaned_comparison_df(TRI_folder, TRI_models)\u001b[38;5;241m.\u001b[39msort_values(by\u001b[38;5;241m=\u001b[39m\u001b[38;5;124m'\u001b[39m\u001b[38;5;124mf1_score\u001b[39m\u001b[38;5;124m'\u001b[39m, ascending\u001b[38;5;241m=\u001b[39m\u001b[38;5;28;01mFalse\u001b[39;00m)\n\u001b[1;32m      6\u001b[0m TRI_display \u001b[38;5;241m=\u001b[39m TRI_df\u001b[38;5;241m.\u001b[39mcopy()\n",
      "\u001b[0;31mValueError\u001b[0m: list.remove(x): x not in list"
     ]
    }
   ],
   "source": [
    "TRI_folder = MODELS_FOLDER + 'TRI_classifier/'\n",
    "TRI_models = os.listdir(TRI_folder)\n",
    "TRI_models.remove('before_3rd_validation')\n",
    "\n",
    "TRI_df = get_meaned_comparison_df(TRI_folder, TRI_models).sort_values(by='f1_score', ascending=False)\n",
    "TRI_display = TRI_df.copy()\n",
    "TRI_display[metrics] = TRI_display[metrics].apply(lambda x: highlight_max_num(x))\n",
    "\n",
    "display(HTML(TRI_display[columns].to_html(escape=False)))"
   ]
  },
  {
   "cell_type": "code",
   "execution_count": 62,
   "id": "8a0db4eb-5c9a-41e2-85d3-ddcf4bb35385",
   "metadata": {
    "jupyter": {
     "source_hidden": true
    }
   },
   "outputs": [
    {
     "data": {
      "text/html": [
       "<h4>Comparison of evaluation parameters</h4>"
      ],
      "text/plain": [
       "<IPython.core.display.HTML object>"
      ]
     },
     "metadata": {},
     "output_type": "display_data"
    },
    {
     "name": "stderr",
     "output_type": "stream",
     "text": [
      "No artists with labels found to put in legend.  Note that artists whose label start with an underscore are ignored when legend() is called with no argument.\n"
     ]
    },
    {
     "data": {
      "image/png": "[encoded data removed]",
      "text/plain": [
       "<Figure size 800x300 with 2 Axes>"
      ]
     },
     "metadata": {},
     "output_type": "display_data"
    }
   ],
   "source": [
    "# Plot\n",
    "fig, (ax1, ax2) = plt.subplots(1, 2, figsize=(8, 3))\n",
    "display(HTML('<h4>Comparison of evaluation parameters</h4>'))\n",
    "\n",
    "for ax, df, title in [[ax1, TRI_df[TRI_df['num_epochs'] == 3], \"Comparison of model architectures\"], \n",
    "                      [ax2, TRI_df[TRI_df['pretrained_model'] == 'BioLinkBERT'], \"Comparison of epochs\"]]:\n",
    "    df_metrics = df[['model_name'] + metrics]\n",
    "    plot_evaluation_parameters(ax, df_metrics, title)\n",
    "    ax.set_ylim(0.84, 1)\n",
    "plt.tight_layout()    \n",
    "plt.show()"
   ]
  },
  {
   "cell_type": "markdown",
   "id": "57fcbfab-cdb5-4bf7-bcce-94b922e155cc",
   "metadata": {},
   "source": [
    "## MoR classifiers"
   ]
  },
  {
   "cell_type": "code",
   "execution_count": 12,
   "id": "2ea81cd1-6a72-47d8-9061-cc3630c001fa",
   "metadata": {},
   "outputs": [
    {
     "name": "stdout",
     "output_type": "stream",
     "text": [
      "ls: cannot access '../../classifiers_training/saved_models//MoR_classifier/before_validation/': No such file or directory\n"
     ]
    }
   ],
   "source": [
    "!ls \"{MODELS_FOLDER}MoR_classifier/\""
   ]
  },
  {
   "cell_type": "code",
   "execution_count": 64,
   "id": "da6f7be0-9709-4150-90ac-ebbf681c1d18",
   "metadata": {},
   "outputs": [
    {
     "data": {
      "text/html": [
       "<table border=\"1\" class=\"dataframe\">\n",
       "  <thead>\n",
       "    <tr style=\"text-align: right;\">\n",
       "      <th></th>\n",
       "      <th>accuracy_mean</th>\n",
       "      <th>f1_score_mean</th>\n",
       "      <th>recall_mean</th>\n",
       "      <th>precision_mean</th>\n",
       "      <th>accuracy</th>\n",
       "      <th>f1_score</th>\n",
       "      <th>recall</th>\n",
       "      <th>precision</th>\n",
       "      <th>accuracy_std</th>\n",
       "      <th>f1_score_std</th>\n",
       "      <th>recall_std</th>\n",
       "      <th>precision_std</th>\n",
       "    </tr>\n",
       "    <tr>\n",
       "      <th>model_name</th>\n",
       "      <th></th>\n",
       "      <th></th>\n",
       "      <th></th>\n",
       "      <th></th>\n",
       "      <th></th>\n",
       "      <th></th>\n",
       "      <th></th>\n",
       "      <th></th>\n",
       "      <th></th>\n",
       "      <th></th>\n",
       "      <th></th>\n",
       "      <th></th>\n",
       "    </tr>\n",
       "  </thead>\n",
       "  <tbody>\n",
       "    <tr>\n",
       "      <th>BioLinkBERT_span_fullDataset_5e_lr3e-05</th>\n",
       "      <td><b>0.97</b></td>\n",
       "      <td><b>0.96</b></td>\n",
       "      <td><b>0.97</b></td>\n",
       "      <td><b>0.96</b></td>\n",
       "      <td>[0.94, 0.98, 0.98]</td>\n",
       "      <td>[0.96, 0.97, 0.96]</td>\n",
       "      <td>[0.94, 0.98, 0.98]</td>\n",
       "      <td>[0.99, 0.96, 0.94]</td>\n",
       "      <td>[0.0, 0.0, 0.0]</td>\n",
       "      <td>[0.0, 0.0, 0.0]</td>\n",
       "      <td>[0.0, 0.0, 0.0]</td>\n",
       "      <td>[0.0, 0.0, 0.0]</td>\n",
       "    </tr>\n",
       "    <tr>\n",
       "      <th>BioLinkBERT_span_5e_lr3e-05</th>\n",
       "      <td>0.93</td>\n",
       "      <td>0.93</td>\n",
       "      <td>0.93</td>\n",
       "      <td>0.93</td>\n",
       "      <td>[0.9, 0.96, 0.93]</td>\n",
       "      <td>[0.93, 0.94, 0.92]</td>\n",
       "      <td>[0.9, 0.96, 0.93]</td>\n",
       "      <td>[0.96, 0.92, 0.92]</td>\n",
       "      <td>[0.03, 0.01, 0.03]</td>\n",
       "      <td>[0.02, 0.01, 0.01]</td>\n",
       "      <td>[0.03, 0.01, 0.03]</td>\n",
       "      <td>[0.02, 0.02, 0.02]</td>\n",
       "    </tr>\n",
       "    <tr>\n",
       "      <th>BioLinkBERT_span_8e_lr3e-05</th>\n",
       "      <td>0.93</td>\n",
       "      <td>0.93</td>\n",
       "      <td>0.93</td>\n",
       "      <td>0.93</td>\n",
       "      <td>[0.89, 0.96, 0.93]</td>\n",
       "      <td>[0.92, 0.94, 0.93]</td>\n",
       "      <td>[0.89, 0.96, 0.93]</td>\n",
       "      <td>[0.95, 0.92, 0.92]</td>\n",
       "      <td>[0.05, 0.02, 0.02]</td>\n",
       "      <td>[0.02, 0.02, 0.02]</td>\n",
       "      <td>[0.05, 0.02, 0.02]</td>\n",
       "      <td>[0.03, 0.03, 0.03]</td>\n",
       "    </tr>\n",
       "    <tr>\n",
       "      <th>BiomedNLP_span_5e_lr3e-05</th>\n",
       "      <td>0.93</td>\n",
       "      <td>0.93</td>\n",
       "      <td>0.93</td>\n",
       "      <td>0.93</td>\n",
       "      <td>[0.89, 0.96, 0.94]</td>\n",
       "      <td>[0.92, 0.94, 0.93]</td>\n",
       "      <td>[0.89, 0.96, 0.94]</td>\n",
       "      <td>[0.96, 0.92, 0.91]</td>\n",
       "      <td>[0.03, 0.02, 0.02]</td>\n",
       "      <td>[0.02, 0.01, 0.02]</td>\n",
       "      <td>[0.03, 0.02, 0.02]</td>\n",
       "      <td>[0.02, 0.01, 0.03]</td>\n",
       "    </tr>\n",
       "    <tr>\n",
       "      <th>BiomedNLP-large_span_5e_lr3e-05</th>\n",
       "      <td>0.93</td>\n",
       "      <td>0.93</td>\n",
       "      <td>0.93</td>\n",
       "      <td>0.93</td>\n",
       "      <td>[0.89, 0.96, 0.93]</td>\n",
       "      <td>[0.92, 0.94, 0.92]</td>\n",
       "      <td>[0.89, 0.96, 0.93]</td>\n",
       "      <td>[0.95, 0.93, 0.91]</td>\n",
       "      <td>[0.03, 0.01, 0.02]</td>\n",
       "      <td>[0.02, 0.02, 0.02]</td>\n",
       "      <td>[0.03, 0.01, 0.02]</td>\n",
       "      <td>[0.02, 0.02, 0.02]</td>\n",
       "    </tr>\n",
       "    <tr>\n",
       "      <th>BioLinkBERT_5e_lr3e-05</th>\n",
       "      <td>0.93</td>\n",
       "      <td>0.93</td>\n",
       "      <td>0.93</td>\n",
       "      <td>0.93</td>\n",
       "      <td>[0.89, 0.96, 0.93]</td>\n",
       "      <td>[0.92, 0.94, 0.92]</td>\n",
       "      <td>[0.89, 0.96, 0.93]</td>\n",
       "      <td>[0.96, 0.92, 0.91]</td>\n",
       "      <td>[0.03, 0.01, 0.02]</td>\n",
       "      <td>[0.01, 0.01, 0.01]</td>\n",
       "      <td>[0.03, 0.01, 0.02]</td>\n",
       "      <td>[0.02, 0.02, 0.02]</td>\n",
       "    </tr>\n",
       "    <tr>\n",
       "      <th>BioLinkBERT_span_10e_lr3e-05</th>\n",
       "      <td>0.92</td>\n",
       "      <td>0.93</td>\n",
       "      <td>0.92</td>\n",
       "      <td>0.93</td>\n",
       "      <td>[0.89, 0.96, 0.92]</td>\n",
       "      <td>[0.92, 0.94, 0.92]</td>\n",
       "      <td>[0.89, 0.96, 0.92]</td>\n",
       "      <td>[0.96, 0.92, 0.91]</td>\n",
       "      <td>[0.04, 0.02, 0.03]</td>\n",
       "      <td>[0.02, 0.01, 0.02]</td>\n",
       "      <td>[0.04, 0.02, 0.03]</td>\n",
       "      <td>[0.02, 0.03, 0.04]</td>\n",
       "    </tr>\n",
       "    <tr>\n",
       "      <th>BioLinkBERT_8e_lr3e-05</th>\n",
       "      <td>0.93</td>\n",
       "      <td>0.93</td>\n",
       "      <td>0.93</td>\n",
       "      <td>0.92</td>\n",
       "      <td>[0.91, 0.95, 0.93]</td>\n",
       "      <td>[0.92, 0.94, 0.92]</td>\n",
       "      <td>[0.91, 0.95, 0.93]</td>\n",
       "      <td>[0.94, 0.93, 0.9]</td>\n",
       "      <td>[0.03, 0.02, 0.02]</td>\n",
       "      <td>[0.02, 0.01, 0.02]</td>\n",
       "      <td>[0.03, 0.02, 0.02]</td>\n",
       "      <td>[0.01, 0.02, 0.04]</td>\n",
       "    </tr>\n",
       "    <tr>\n",
       "      <th>BiomedNLP_5e_lr3e-05</th>\n",
       "      <td>0.93</td>\n",
       "      <td>0.92</td>\n",
       "      <td>0.93</td>\n",
       "      <td>0.92</td>\n",
       "      <td>[0.88, 0.96, 0.94]</td>\n",
       "      <td>[0.92, 0.94, 0.91]</td>\n",
       "      <td>[0.88, 0.96, 0.94]</td>\n",
       "      <td>[0.96, 0.92, 0.89]</td>\n",
       "      <td>[0.02, 0.01, 0.02]</td>\n",
       "      <td>[0.01, 0.01, 0.01]</td>\n",
       "      <td>[0.02, 0.01, 0.02]</td>\n",
       "      <td>[0.02, 0.01, 0.02]</td>\n",
       "    </tr>\n",
       "    <tr>\n",
       "      <th>BioLinkBERT_span_15e_lr3e-05</th>\n",
       "      <td>0.92</td>\n",
       "      <td>0.92</td>\n",
       "      <td>0.92</td>\n",
       "      <td>0.92</td>\n",
       "      <td>[0.88, 0.95, 0.92]</td>\n",
       "      <td>[0.91, 0.94, 0.91]</td>\n",
       "      <td>[0.88, 0.95, 0.92]</td>\n",
       "      <td>[0.94, 0.92, 0.89]</td>\n",
       "      <td>[0.05, 0.03, 0.04]</td>\n",
       "      <td>[0.02, 0.01, 0.01]</td>\n",
       "      <td>[0.05, 0.03, 0.04]</td>\n",
       "      <td>[0.03, 0.02, 0.03]</td>\n",
       "    </tr>\n",
       "    <tr>\n",
       "      <th>BioLinkBERT_10e_lr3e-05</th>\n",
       "      <td>0.92</td>\n",
       "      <td>0.91</td>\n",
       "      <td>0.92</td>\n",
       "      <td>0.91</td>\n",
       "      <td>[0.87, 0.94, 0.95]</td>\n",
       "      <td>[0.91, 0.93, 0.9]</td>\n",
       "      <td>[0.87, 0.94, 0.95]</td>\n",
       "      <td>[0.95, 0.92, 0.85]</td>\n",
       "      <td>[0.04, 0.03, 0.01]</td>\n",
       "      <td>[0.02, 0.02, 0.03]</td>\n",
       "      <td>[0.04, 0.03, 0.01]</td>\n",
       "      <td>[0.03, 0.02, 0.06]</td>\n",
       "    </tr>\n",
       "    <tr>\n",
       "      <th>sciBERT_5e_lr3e-05</th>\n",
       "      <td>0.91</td>\n",
       "      <td>0.91</td>\n",
       "      <td>0.91</td>\n",
       "      <td>0.91</td>\n",
       "      <td>[0.88, 0.94, 0.91]</td>\n",
       "      <td>[0.92, 0.93, 0.89]</td>\n",
       "      <td>[0.88, 0.94, 0.91]</td>\n",
       "      <td>[0.95, 0.91, 0.87]</td>\n",
       "      <td>[0.03, 0.02, 0.02]</td>\n",
       "      <td>[0.02, 0.01, 0.01]</td>\n",
       "      <td>[0.03, 0.02, 0.02]</td>\n",
       "      <td>[0.01, 0.02, 0.02]</td>\n",
       "    </tr>\n",
       "    <tr>\n",
       "      <th>BioBERT_span_5e_lr3e-05</th>\n",
       "      <td>0.91</td>\n",
       "      <td>0.91</td>\n",
       "      <td>0.91</td>\n",
       "      <td>0.91</td>\n",
       "      <td>[0.88, 0.95, 0.9]</td>\n",
       "      <td>[0.91, 0.92, 0.89]</td>\n",
       "      <td>[0.88, 0.95, 0.9]</td>\n",
       "      <td>[0.95, 0.9, 0.88]</td>\n",
       "      <td>[0.02, 0.02, 0.06]</td>\n",
       "      <td>[0.01, 0.01, 0.02]</td>\n",
       "      <td>[0.02, 0.02, 0.06]</td>\n",
       "      <td>[0.02, 0.02, 0.03]</td>\n",
       "    </tr>\n",
       "    <tr>\n",
       "      <th>sciBERT_span_5e_lr3e-05</th>\n",
       "      <td>0.91</td>\n",
       "      <td>0.91</td>\n",
       "      <td>0.91</td>\n",
       "      <td>0.91</td>\n",
       "      <td>[0.87, 0.95, 0.91]</td>\n",
       "      <td>[0.91, 0.92, 0.89]</td>\n",
       "      <td>[0.87, 0.95, 0.91]</td>\n",
       "      <td>[0.96, 0.9, 0.87]</td>\n",
       "      <td>[0.03, 0.01, 0.03]</td>\n",
       "      <td>[0.02, 0.01, 0.01]</td>\n",
       "      <td>[0.03, 0.01, 0.03]</td>\n",
       "      <td>[0.01, 0.02, 0.03]</td>\n",
       "    </tr>\n",
       "    <tr>\n",
       "      <th>BioBERT_5e_lr3e-05</th>\n",
       "      <td>0.90</td>\n",
       "      <td>0.90</td>\n",
       "      <td>0.90</td>\n",
       "      <td>0.91</td>\n",
       "      <td>[0.88, 0.94, 0.88]</td>\n",
       "      <td>[0.91, 0.92, 0.88]</td>\n",
       "      <td>[0.88, 0.94, 0.88]</td>\n",
       "      <td>[0.95, 0.9, 0.88]</td>\n",
       "      <td>[0.03, 0.01, 0.04]</td>\n",
       "      <td>[0.01, 0.01, 0.02]</td>\n",
       "      <td>[0.03, 0.01, 0.04]</td>\n",
       "      <td>[0.02, 0.02, 0.02]</td>\n",
       "    </tr>\n",
       "    <tr>\n",
       "      <th>BiomedNLP-large_5e_lr3e-05</th>\n",
       "      <td>0.81</td>\n",
       "      <td>0.78</td>\n",
       "      <td>0.81</td>\n",
       "      <td>0.77</td>\n",
       "      <td>[0.72, 0.96, 0.74]</td>\n",
       "      <td>[0.74, 0.88, 0.73]</td>\n",
       "      <td>[0.72, 0.96, 0.74]</td>\n",
       "      <td>[0.76, 0.83, 0.73]</td>\n",
       "      <td>[0.37, 0.03, 0.37]</td>\n",
       "      <td>[0.37, 0.13, 0.37]</td>\n",
       "      <td>[0.37, 0.03, 0.37]</td>\n",
       "      <td>[0.38, 0.19, 0.37]</td>\n",
       "    </tr>\n",
       "  </tbody>\n",
       "</table>"
      ],
      "text/plain": [
       "<IPython.core.display.HTML object>"
      ]
     },
     "metadata": {},
     "output_type": "display_data"
    }
   ],
   "source": [
    "MoR_columns = ['model_name'] + [m+'_mean' for m in metrics] + metrics + [m+'_std' for m in metrics]\n",
    "\n",
    "MoR_folder = MODELS_FOLDER + 'MoR_classifier/'\n",
    "MoR_models = os.listdir(MoR_folder)\n",
    "MoR_models.remove('before_3rd_validation')\n",
    "\n",
    "MoR_df = get_meaned_comparison_df(MoR_folder, MoR_models).sort_values(by='f1_score_mean', ascending=False)\n",
    "#MoR_df.set_index('model_name', inplace=True)\n",
    "\n",
    "MoR_display = MoR_df.copy()\n",
    "MoR_display[[m+'_mean' for m in metrics]] = MoR_display[[m+'_mean' for m in metrics]].apply(lambda x: highlight_max_num(x))\n",
    "\n",
    "display(HTML(MoR_display[MoR_columns].set_index('model_name').to_html(escape=False)))\n"
   ]
  },
  {
   "cell_type": "code",
   "execution_count": 65,
   "id": "c2298a78-4df1-4643-a598-c27c51ef9b9d",
   "metadata": {},
   "outputs": [
    {
     "data": {
      "text/html": [
       "<h3>Comparison of evaluation parameters per label</h3>"
      ],
      "text/plain": [
       "<IPython.core.display.HTML object>"
      ]
     },
     "metadata": {},
     "output_type": "display_data"
    },
    {
     "data": {
      "text/html": [
       "<h4>On different architectures</h4>"
      ],
      "text/plain": [
       "<IPython.core.display.HTML object>"
      ]
     },
     "metadata": {},
     "output_type": "display_data"
    },
    {
     "name": "stderr",
     "output_type": "stream",
     "text": [
      "No artists with labels found to put in legend.  Note that artists whose label start with an underscore are ignored when legend() is called with no argument.\n"
     ]
    },
    {
     "ename": "ValueError",
     "evalue": "Length of values (0) does not match length of index (4)",
     "output_type": "error",
     "traceback": [
      "\u001b[0;31m---------------------------------------------------------------------------\u001b[0m",
      "\u001b[0;31mValueError\u001b[0m                                Traceback (most recent call last)",
      "Cell \u001b[0;32mIn[65], line 19\u001b[0m\n\u001b[1;32m     17\u001b[0m \u001b[38;5;66;03m# Plot labels\u001b[39;00m\n\u001b[1;32m     18\u001b[0m \u001b[38;5;28;01mfor\u001b[39;00m i, title \u001b[38;5;129;01min\u001b[39;00m \u001b[38;5;28menumerate\u001b[39m(labels):\n\u001b[0;32m---> 19\u001b[0m     MoR_label_metrics \u001b[38;5;241m=\u001b[39m \u001b[43mMoR_df_subset\u001b[49m\u001b[43m[\u001b[49m\u001b[43mmetrics\u001b[49m\u001b[43m]\u001b[49m\u001b[38;5;241;43m.\u001b[39;49m\u001b[43mapply\u001b[49m\u001b[43m(\u001b[49m\u001b[38;5;28;43;01mlambda\u001b[39;49;00m\u001b[43m \u001b[49m\u001b[43mx\u001b[49m\u001b[43m:\u001b[49m\u001b[43m \u001b[49m\u001b[43m[\u001b[49m\u001b[43my\u001b[49m\u001b[43m[\u001b[49m\u001b[43mi\u001b[49m\u001b[43m]\u001b[49m\u001b[43m \u001b[49m\u001b[38;5;28;43;01mfor\u001b[39;49;00m\u001b[43m \u001b[49m\u001b[43my\u001b[49m\u001b[43m \u001b[49m\u001b[38;5;129;43;01min\u001b[39;49;00m\u001b[43m \u001b[49m\u001b[43mx\u001b[49m\u001b[43m]\u001b[49m\u001b[43m)\u001b[49m\u001b[38;5;241m.\u001b[39mreset_index()\n\u001b[1;32m     20\u001b[0m     plot_evaluation_parameters(axs[i\u001b[38;5;241m+\u001b[39m\u001b[38;5;241m1\u001b[39m], MoR_label_metrics, title, legend\u001b[38;5;241m=\u001b[39m\u001b[38;5;28;01mFalse\u001b[39;00m)\n\u001b[1;32m     21\u001b[0m     axs[i\u001b[38;5;241m+\u001b[39m\u001b[38;5;241m1\u001b[39m]\u001b[38;5;241m.\u001b[39mset_ylim(min_ylim, \u001b[38;5;241m1\u001b[39m)   \n",
      "File \u001b[0;32m~/sandbox/ExTRI2_classifiers/.env_extri2/lib/python3.11/site-packages/pandas/core/frame.py:10347\u001b[0m, in \u001b[0;36mDataFrame.apply\u001b[0;34m(self, func, axis, raw, result_type, args, by_row, engine, engine_kwargs, **kwargs)\u001b[0m\n\u001b[1;32m  10333\u001b[0m \u001b[38;5;28;01mfrom\u001b[39;00m \u001b[38;5;21;01mpandas\u001b[39;00m\u001b[38;5;21;01m.\u001b[39;00m\u001b[38;5;21;01mcore\u001b[39;00m\u001b[38;5;21;01m.\u001b[39;00m\u001b[38;5;21;01mapply\u001b[39;00m \u001b[38;5;28;01mimport\u001b[39;00m frame_apply\n\u001b[1;32m  10335\u001b[0m op \u001b[38;5;241m=\u001b[39m frame_apply(\n\u001b[1;32m  10336\u001b[0m     \u001b[38;5;28mself\u001b[39m,\n\u001b[1;32m  10337\u001b[0m     func\u001b[38;5;241m=\u001b[39mfunc,\n\u001b[0;32m   (...)\u001b[0m\n\u001b[1;32m  10345\u001b[0m     kwargs\u001b[38;5;241m=\u001b[39mkwargs,\n\u001b[1;32m  10346\u001b[0m )\n\u001b[0;32m> 10347\u001b[0m \u001b[38;5;28;01mreturn\u001b[39;00m \u001b[43mop\u001b[49m\u001b[38;5;241;43m.\u001b[39;49m\u001b[43mapply\u001b[49m\u001b[43m(\u001b[49m\u001b[43m)\u001b[49m\u001b[38;5;241m.\u001b[39m__finalize__(\u001b[38;5;28mself\u001b[39m, method\u001b[38;5;241m=\u001b[39m\u001b[38;5;124m\"\u001b[39m\u001b[38;5;124mapply\u001b[39m\u001b[38;5;124m\"\u001b[39m)\n",
      "File \u001b[0;32m~/sandbox/ExTRI2_classifiers/.env_extri2/lib/python3.11/site-packages/pandas/core/apply.py:910\u001b[0m, in \u001b[0;36mFrameApply.apply\u001b[0;34m(self)\u001b[0m\n\u001b[1;32m    908\u001b[0m \u001b[38;5;66;03m# one axis empty\u001b[39;00m\n\u001b[1;32m    909\u001b[0m \u001b[38;5;28;01melif\u001b[39;00m \u001b[38;5;129;01mnot\u001b[39;00m \u001b[38;5;28mall\u001b[39m(\u001b[38;5;28mself\u001b[39m\u001b[38;5;241m.\u001b[39mobj\u001b[38;5;241m.\u001b[39mshape):\n\u001b[0;32m--> 910\u001b[0m     \u001b[38;5;28;01mreturn\u001b[39;00m \u001b[38;5;28;43mself\u001b[39;49m\u001b[38;5;241;43m.\u001b[39;49m\u001b[43mapply_empty_result\u001b[49m\u001b[43m(\u001b[49m\u001b[43m)\u001b[49m\n\u001b[1;32m    912\u001b[0m \u001b[38;5;66;03m# raw\u001b[39;00m\n\u001b[1;32m    913\u001b[0m \u001b[38;5;28;01melif\u001b[39;00m \u001b[38;5;28mself\u001b[39m\u001b[38;5;241m.\u001b[39mraw:\n",
      "File \u001b[0;32m~/sandbox/ExTRI2_classifiers/.env_extri2/lib/python3.11/site-packages/pandas/core/apply.py:983\u001b[0m, in \u001b[0;36mFrameApply.apply_empty_result\u001b[0;34m(self)\u001b[0m\n\u001b[1;32m    980\u001b[0m     \u001b[38;5;28;01melse\u001b[39;00m:\n\u001b[1;32m    981\u001b[0m         r \u001b[38;5;241m=\u001b[39m np\u001b[38;5;241m.\u001b[39mnan\n\u001b[0;32m--> 983\u001b[0m     \u001b[38;5;28;01mreturn\u001b[39;00m \u001b[38;5;28;43mself\u001b[39;49m\u001b[38;5;241;43m.\u001b[39;49m\u001b[43mobj\u001b[49m\u001b[38;5;241;43m.\u001b[39;49m\u001b[43m_constructor_sliced\u001b[49m\u001b[43m(\u001b[49m\u001b[43mr\u001b[49m\u001b[43m,\u001b[49m\u001b[43m \u001b[49m\u001b[43mindex\u001b[49m\u001b[38;5;241;43m=\u001b[39;49m\u001b[38;5;28;43mself\u001b[39;49m\u001b[38;5;241;43m.\u001b[39;49m\u001b[43magg_axis\u001b[49m\u001b[43m)\u001b[49m\n\u001b[1;32m    984\u001b[0m \u001b[38;5;28;01melse\u001b[39;00m:\n\u001b[1;32m    985\u001b[0m     \u001b[38;5;28;01mreturn\u001b[39;00m \u001b[38;5;28mself\u001b[39m\u001b[38;5;241m.\u001b[39mobj\u001b[38;5;241m.\u001b[39mcopy()\n",
      "File \u001b[0;32m~/sandbox/ExTRI2_classifiers/.env_extri2/lib/python3.11/site-packages/pandas/core/series.py:574\u001b[0m, in \u001b[0;36mSeries.__init__\u001b[0;34m(self, data, index, dtype, name, copy, fastpath)\u001b[0m\n\u001b[1;32m    572\u001b[0m     index \u001b[38;5;241m=\u001b[39m default_index(\u001b[38;5;28mlen\u001b[39m(data))\n\u001b[1;32m    573\u001b[0m \u001b[38;5;28;01melif\u001b[39;00m is_list_like(data):\n\u001b[0;32m--> 574\u001b[0m     \u001b[43mcom\u001b[49m\u001b[38;5;241;43m.\u001b[39;49m\u001b[43mrequire_length_match\u001b[49m\u001b[43m(\u001b[49m\u001b[43mdata\u001b[49m\u001b[43m,\u001b[49m\u001b[43m \u001b[49m\u001b[43mindex\u001b[49m\u001b[43m)\u001b[49m\n\u001b[1;32m    576\u001b[0m \u001b[38;5;66;03m# create/copy the manager\u001b[39;00m\n\u001b[1;32m    577\u001b[0m \u001b[38;5;28;01mif\u001b[39;00m \u001b[38;5;28misinstance\u001b[39m(data, (SingleBlockManager, SingleArrayManager)):\n",
      "File \u001b[0;32m~/sandbox/ExTRI2_classifiers/.env_extri2/lib/python3.11/site-packages/pandas/core/common.py:571\u001b[0m, in \u001b[0;36mrequire_length_match\u001b[0;34m(data, index)\u001b[0m\n\u001b[1;32m    567\u001b[0m \u001b[38;5;250m\u001b[39m\u001b[38;5;124;03m\"\"\"\u001b[39;00m\n\u001b[1;32m    568\u001b[0m \u001b[38;5;124;03mCheck the length of data matches the length of the index.\u001b[39;00m\n\u001b[1;32m    569\u001b[0m \u001b[38;5;124;03m\"\"\"\u001b[39;00m\n\u001b[1;32m    570\u001b[0m \u001b[38;5;28;01mif\u001b[39;00m \u001b[38;5;28mlen\u001b[39m(data) \u001b[38;5;241m!=\u001b[39m \u001b[38;5;28mlen\u001b[39m(index):\n\u001b[0;32m--> 571\u001b[0m     \u001b[38;5;28;01mraise\u001b[39;00m \u001b[38;5;167;01mValueError\u001b[39;00m(\n\u001b[1;32m    572\u001b[0m         \u001b[38;5;124m\"\u001b[39m\u001b[38;5;124mLength of values \u001b[39m\u001b[38;5;124m\"\u001b[39m\n\u001b[1;32m    573\u001b[0m         \u001b[38;5;124mf\u001b[39m\u001b[38;5;124m\"\u001b[39m\u001b[38;5;124m(\u001b[39m\u001b[38;5;132;01m{\u001b[39;00m\u001b[38;5;28mlen\u001b[39m(data)\u001b[38;5;132;01m}\u001b[39;00m\u001b[38;5;124m) \u001b[39m\u001b[38;5;124m\"\u001b[39m\n\u001b[1;32m    574\u001b[0m         \u001b[38;5;124m\"\u001b[39m\u001b[38;5;124mdoes not match length of index \u001b[39m\u001b[38;5;124m\"\u001b[39m\n\u001b[1;32m    575\u001b[0m         \u001b[38;5;124mf\u001b[39m\u001b[38;5;124m\"\u001b[39m\u001b[38;5;124m(\u001b[39m\u001b[38;5;132;01m{\u001b[39;00m\u001b[38;5;28mlen\u001b[39m(index)\u001b[38;5;132;01m}\u001b[39;00m\u001b[38;5;124m)\u001b[39m\u001b[38;5;124m\"\u001b[39m\n\u001b[1;32m    576\u001b[0m     )\n",
      "\u001b[0;31mValueError\u001b[0m: Length of values (0) does not match length of index (4)"
     ]
    },
    {
     "data": {
      "image/png": "[encoded data removed]",
      "text/plain": [
       "<Figure size 1400x300 with 4 Axes>"
      ]
     },
     "metadata": {},
     "output_type": "display_data"
    }
   ],
   "source": [
    "display(HTML('<h3>Comparison of evaluation parameters per label</h3>'))\n",
    "# Plot different subsets of the data\n",
    "for mask, heading, min_ylim in [[MoR_df['num_epochs'] == 3, 'On different architectures', 0.75],\n",
    "                                [MoR_df['pretrained_model'] == 'BioLinkBERT', 'On different number of epochs', 0.825]]:\n",
    "    MoR_df_subset = MoR_df[mask]\n",
    "    MoR_df_subset.set_index('model_name', inplace=True)\n",
    "    labels = ['Undefined', 'Activation', 'Repression']\n",
    "    fig, axs = plt.subplots(1, 4, figsize=(14, 3))\n",
    "    display(HTML(f'<h4>{heading}</h4>'))\n",
    "\n",
    "    # Plot over labels\n",
    "    MoR_metrics = MoR_df_subset[[m+'_mean' for m in metrics]].reset_index()\n",
    "    MoR_metrics.columns = [col.replace('_mean', '') for col in MoR_metrics.columns]\n",
    "    plot_evaluation_parameters(axs[0], MoR_metrics, 'Average') \n",
    "    axs[0].set_ylim(min_ylim, 1)\n",
    "    \n",
    "    # Plot labels\n",
    "    for i, title in enumerate(labels):\n",
    "        MoR_label_metrics = MoR_df_subset[metrics].apply(lambda x: [y[i] for y in x]).reset_index()\n",
    "        plot_evaluation_parameters(axs[i+1], MoR_label_metrics, title, legend=False)\n",
    "        axs[i+1].set_ylim(min_ylim, 1)   \n",
    "    plt.tight_layout()    \n",
    "    plt.show()"
   ]
  },
  {
   "cell_type": "code",
   "execution_count": null,
   "id": "9d829a59-e962-4e3c-ac7c-d4cc6b1ade9d",
   "metadata": {
    "jupyter": {
     "source_hidden": true
    }
   },
   "outputs": [],
   "source": [
    "# Print the worst predicted labels\n",
    "\n",
    "labels_names = {0: 'Undefined', 1: 'Activation', 2: 'Repression'}\n",
    "pd.set_option('display.max_colwidth', 1000)\n",
    "\n",
    "preds_list = ['probabilities', 'labels', 'val_texts']\n",
    "preds_df = MoR_df.loc[['BioLinkBERT']][preds_list].explode(preds_list)\n",
    "preds_df['correct_prob'] = preds_df.apply(lambda row: row['probabilities'][row['labels']], axis=1)\n",
    "preds_df['predicted'] = preds_df.apply(lambda row: np.argmax(row['probabilities']), axis=1)\n",
    "preds_df['predicted'] = preds_df['predicted'].map(labels_names)\n",
    "preds_df['correct'] = preds_df['labels'].map(labels_names)\n",
    "\n",
    "\n",
    "preds_df = preds_df.sort_values('correct_prob')[['val_texts', 'correct_prob', 'correct', 'predicted']]\n",
    "display(preds_df[preds_df['correct_prob'] < 0.05])"
   ]
  }
 ],
 "metadata": {
  "kernelspec": {
   "display_name": ".general_env",
   "language": "python",
   "name": ".general_env"
  },
  "language_info": {
   "codemirror_mode": {
    "name": "ipython",
    "version": 3
   },
   "file_extension": ".py",
   "mimetype": "text/x-python",
   "name": "python",
   "nbconvert_exporter": "python",
   "pygments_lexer": "ipython3",
   "version": "3.11.5"
  }
 },
 "nbformat": 4,
 "nbformat_minor": 5
}
